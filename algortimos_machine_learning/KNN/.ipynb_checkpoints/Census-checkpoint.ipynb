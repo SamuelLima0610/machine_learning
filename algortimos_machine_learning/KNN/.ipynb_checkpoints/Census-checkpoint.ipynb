{
 "cells": [
  {
   "cell_type": "markdown",
   "id": "e2c96d0c",
   "metadata": {},
   "source": [
    "### Leitura do arquivo .pkl\n",
    "\n",
    "Leitura do arquivo onde foi salvo os previsores e as classes com seu devido pre processsamento\n"
   ]
  },
  {
   "cell_type": "code",
   "execution_count": 1,
   "id": "3230db4a",
   "metadata": {},
   "outputs": [],
   "source": [
    "import pickle"
   ]
  },
  {
   "cell_type": "code",
   "execution_count": 2,
   "id": "85a11644",
   "metadata": {},
   "outputs": [],
   "source": [
    "with open('../../variaveis_preprocessadas/census.pkl', 'rb') as f:\n",
    "    previsores_treinamento, classe_treinamento, previsores_teste, classe_teste = pickle.load(f)"
   ]
  },
  {
   "cell_type": "markdown",
   "id": "70c0d701",
   "metadata": {},
   "source": [
    "### Utilização do algoritmo KNN"
   ]
  },
  {
   "cell_type": "code",
   "execution_count": 23,
   "id": "d32be941",
   "metadata": {},
   "outputs": [],
   "source": [
    "from sklearn.neighbors import KNeighborsClassifier\n",
    "\n",
    "knn = KNeighborsClassifier(n_neighbors=5, p=2)\n",
    "knn.fit(previsores_treinamento, classe_treinamento)\n",
    "previsoes = knn.predict(previsores_teste)"
   ]
  },
  {
   "cell_type": "markdown",
   "id": "6a1a3c73",
   "metadata": {},
   "source": [
    "### Avaliação dos resultados do algoritmo KNN"
   ]
  },
  {
   "cell_type": "code",
   "execution_count": 15,
   "id": "3d0656bd",
   "metadata": {},
   "outputs": [],
   "source": [
    "from sklearn.metrics import accuracy_score, confusion_matrix, classification_report"
   ]
  },
  {
   "cell_type": "code",
   "execution_count": 24,
   "id": "ff22b705",
   "metadata": {},
   "outputs": [
    {
     "data": {
      "text/plain": [
       "0.8223132036847492"
      ]
     },
     "execution_count": 24,
     "metadata": {},
     "output_type": "execute_result"
    }
   ],
   "source": [
    "score = accuracy_score(classe_teste, previsoes)\n",
    "score"
   ]
  },
  {
   "cell_type": "markdown",
   "id": "337c771e",
   "metadata": {},
   "source": [
    "## Valores obtidos por parametros diferentes:\n",
    "\n",
    "n_neighbours = 3; score = 0.8081  <br>\n",
    "n_neighbours = 5; score = 0.8223  <br>\n",
    "n_neighbours = 10; score = 0.8290 <br>"
   ]
  },
  {
   "cell_type": "code",
   "execution_count": 25,
   "id": "08e2c39f",
   "metadata": {},
   "outputs": [
    {
     "data": {
      "text/plain": [
       "array([[3336,  357],\n",
       "       [ 511,  681]], dtype=int64)"
      ]
     },
     "execution_count": 25,
     "metadata": {},
     "output_type": "execute_result"
    }
   ],
   "source": [
    "confusion_matrix(classe_teste, previsoes)"
   ]
  },
  {
   "cell_type": "code",
   "execution_count": 26,
   "id": "82ec935b",
   "metadata": {},
   "outputs": [
    {
     "name": "stdout",
     "output_type": "stream",
     "text": [
      "              precision    recall  f1-score   support\n",
      "\n",
      "       <=50K       0.87      0.90      0.88      3693\n",
      "        >50K       0.66      0.57      0.61      1192\n",
      "\n",
      "    accuracy                           0.82      4885\n",
      "   macro avg       0.76      0.74      0.75      4885\n",
      "weighted avg       0.82      0.82      0.82      4885\n",
      "\n"
     ]
    }
   ],
   "source": [
    "print(classification_report(classe_teste, previsoes))"
   ]
  }
 ],
 "metadata": {
  "kernelspec": {
   "display_name": "Python 3 (ipykernel)",
   "language": "python",
   "name": "python3"
  },
  "language_info": {
   "codemirror_mode": {
    "name": "ipython",
    "version": 3
   },
   "file_extension": ".py",
   "mimetype": "text/x-python",
   "name": "python",
   "nbconvert_exporter": "python",
   "pygments_lexer": "ipython3",
   "version": "3.9.7"
  }
 },
 "nbformat": 4,
 "nbformat_minor": 5
}
