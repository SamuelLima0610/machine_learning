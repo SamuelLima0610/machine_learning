{
 "cells": [
  {
   "cell_type": "markdown",
   "id": "73e4fef3",
   "metadata": {},
   "source": [
    "### Leitura do arquivo .pkl\n",
    "\n",
    "Leitura do arquivo onde foi salvo os previsores e as classes com seu devido pre processsamento\n"
   ]
  },
  {
   "cell_type": "code",
   "execution_count": 1,
   "id": "0bacd689",
   "metadata": {},
   "outputs": [],
   "source": [
    "import pickle"
   ]
  },
  {
   "cell_type": "code",
   "execution_count": 2,
   "id": "10043a37",
   "metadata": {},
   "outputs": [],
   "source": [
    "with open('../../variaveis_preprocessadas/census.pkl', 'rb') as f:\n",
    "    previsores_treinamento, classe_treinamento, previsores_teste, classe_teste = pickle.load(f)"
   ]
  },
  {
   "cell_type": "markdown",
   "id": "b0dc65f5",
   "metadata": {},
   "source": [
    "### Utilização do algoritmo KNN"
   ]
  },
  {
   "cell_type": "code",
   "execution_count": 23,
   "id": "630c68fb",
   "metadata": {},
   "outputs": [],
   "source": [
    "from sklearn.neighbors import KNeighborsClassifier\n",
    "\n",
    "knn = KNeighborsClassifier(n_neighbors=5, p=2)\n",
    "knn.fit(previsores_treinamento, classe_treinamento)\n",
    "previsoes = knn.predict(previsores_teste)"
   ]
  },
  {
   "cell_type": "markdown",
   "id": "b210fc74",
   "metadata": {},
   "source": [
    "### Avaliação dos resultados do algoritmo KNN"
   ]
  },
  {
   "cell_type": "code",
   "execution_count": 15,
   "id": "561ccf9a",
   "metadata": {},
   "outputs": [],
   "source": [
    "from sklearn.metrics import accuracy_score, confusion_matrix, classification_report"
   ]
  },
  {
   "cell_type": "code",
   "execution_count": 24,
   "id": "97aeb105",
   "metadata": {},
   "outputs": [
    {
     "data": {
      "text/plain": [
       "0.8223132036847492"
      ]
     },
     "execution_count": 24,
     "metadata": {},
     "output_type": "execute_result"
    }
   ],
   "source": [
    "score = accuracy_score(classe_teste, previsoes)\n",
    "score"
   ]
  },
  {
   "cell_type": "markdown",
   "id": "1c853a1e",
   "metadata": {},
   "source": [
    "## Valores obtidos por parametros diferentes:\n",
    "\n",
    "n_neighbours = 3; score = 0.8081  <br>\n",
    "n_neighbours = 5; score = 0.8223  <br>\n",
    "n_neighbours = 10; score = 0.8290 <br>"
   ]
  },
  {
   "cell_type": "code",
   "execution_count": 25,
   "id": "892c8113",
   "metadata": {},
   "outputs": [
    {
     "data": {
      "text/plain": [
       "array([[3336,  357],\n",
       "       [ 511,  681]], dtype=int64)"
      ]
     },
     "execution_count": 25,
     "metadata": {},
     "output_type": "execute_result"
    }
   ],
   "source": [
    "confusion_matrix(classe_teste, previsoes)"
   ]
  },
  {
   "cell_type": "code",
   "execution_count": null,
   "id": "1808ed58",
   "metadata": {},
   "outputs": [],
   "source": []
  }
 ],
 "metadata": {
  "kernelspec": {
   "display_name": "Python 3 (ipykernel)",
   "language": "python",
   "name": "python3"
  },
  "language_info": {
   "codemirror_mode": {
    "name": "ipython",
    "version": 3
   },
   "file_extension": ".py",
   "mimetype": "text/x-python",
   "name": "python",
   "nbconvert_exporter": "python",
   "pygments_lexer": "ipython3",
   "version": "3.9.7"
  }
 },
 "nbformat": 4,
 "nbformat_minor": 5
}
