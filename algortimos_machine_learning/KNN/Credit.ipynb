{
 "cells": [
  {
   "cell_type": "markdown",
   "id": "73e4fef3",
   "metadata": {},
   "source": [
    "### Leitura do arquivo .pkl\n",
    "\n",
    "Leitura do arquivo onde foi salvo os previsores e as classes com seu devido pre processsamento\n"
   ]
  },
  {
   "cell_type": "code",
   "execution_count": 1,
   "id": "0bacd689",
   "metadata": {},
   "outputs": [],
   "source": [
    "import pickle"
   ]
  },
  {
   "cell_type": "code",
   "execution_count": 2,
   "id": "10043a37",
   "metadata": {},
   "outputs": [],
   "source": [
    "with open('../../variaveis_preprocessadas/credit.pkl', 'rb') as f:\n",
    "    previsores_treinamento, classe_treinamento, previsores_teste, classe_teste = pickle.load(f)"
   ]
  },
  {
   "cell_type": "markdown",
   "id": "b0dc65f5",
   "metadata": {},
   "source": [
    "### Utilização do algoritmo KNN"
   ]
  },
  {
   "cell_type": "code",
   "execution_count": 8,
   "id": "630c68fb",
   "metadata": {},
   "outputs": [],
   "source": [
    "from sklearn.neighbors import KNeighborsClassifier\n",
    "\n",
    "knn = KNeighborsClassifier(n_neighbors=10, p=2)\n",
    "knn.fit(previsores_treinamento, classe_treinamento)\n",
    "previsoes = knn.predict(previsores_teste)"
   ]
  },
  {
   "cell_type": "markdown",
   "id": "b210fc74",
   "metadata": {},
   "source": [
    "### Avaliação dos resultados do algoritmo KNN"
   ]
  },
  {
   "cell_type": "code",
   "execution_count": 4,
   "id": "561ccf9a",
   "metadata": {},
   "outputs": [],
   "source": [
    "from sklearn.metrics import accuracy_score, confusion_matrix, classification_report"
   ]
  },
  {
   "cell_type": "code",
   "execution_count": 9,
   "id": "97aeb105",
   "metadata": {},
   "outputs": [
    {
     "data": {
      "text/plain": [
       "0.986"
      ]
     },
     "execution_count": 9,
     "metadata": {},
     "output_type": "execute_result"
    }
   ],
   "source": [
    "score = accuracy_score(classe_teste, previsoes)\n",
    "score"
   ]
  },
  {
   "cell_type": "markdown",
   "id": "1c853a1e",
   "metadata": {},
   "source": [
    "## Valores obtidos por parametros diferentes:\n",
    "\n",
    "n_neighbours = 3; score = 0.984  <br>\n",
    "n_neighbours = 5; score = 0.98   <br>\n",
    "n_neighbours = 10; score = 0.986 <br>"
   ]
  },
  {
   "cell_type": "code",
   "execution_count": 10,
   "id": "892c8113",
   "metadata": {},
   "outputs": [
    {
     "data": {
      "text/plain": [
       "array([[430,   2],\n",
       "       [  5,  63]], dtype=int64)"
      ]
     },
     "execution_count": 10,
     "metadata": {},
     "output_type": "execute_result"
    }
   ],
   "source": [
    "confusion_matrix(classe_teste, previsoes)"
   ]
  },
  {
   "cell_type": "code",
   "execution_count": 11,
   "id": "1808ed58",
   "metadata": {},
   "outputs": [
    {
     "name": "stdout",
     "output_type": "stream",
     "text": [
      "              precision    recall  f1-score   support\n",
      "\n",
      "           0       0.99      1.00      0.99       432\n",
      "           1       0.97      0.93      0.95        68\n",
      "\n",
      "    accuracy                           0.99       500\n",
      "   macro avg       0.98      0.96      0.97       500\n",
      "weighted avg       0.99      0.99      0.99       500\n",
      "\n"
     ]
    }
   ],
   "source": [
    "print(classification_report(classe_teste, previsoes))"
   ]
  },
  {
   "cell_type": "code",
   "execution_count": null,
   "id": "311aac18",
   "metadata": {},
   "outputs": [],
   "source": []
  }
 ],
 "metadata": {
  "kernelspec": {
   "display_name": "Python 3 (ipykernel)",
   "language": "python",
   "name": "python3"
  },
  "language_info": {
   "codemirror_mode": {
    "name": "ipython",
    "version": 3
   },
   "file_extension": ".py",
   "mimetype": "text/x-python",
   "name": "python",
   "nbconvert_exporter": "python",
   "pygments_lexer": "ipython3",
   "version": "3.9.7"
  }
 },
 "nbformat": 4,
 "nbformat_minor": 5
}
