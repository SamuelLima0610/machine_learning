{
 "cells": [
  {
   "cell_type": "markdown",
   "id": "ab1ba7c5",
   "metadata": {},
   "source": [
    "### Leitura do arquivo .pkl\n",
    "\n",
    "Leitura do arquivo onde foi salvo os previsores e as classes com seu devido pre processsamento"
   ]
  },
  {
   "cell_type": "code",
   "execution_count": 7,
   "id": "0803c242",
   "metadata": {},
   "outputs": [],
   "source": [
    "import pickle"
   ]
  },
  {
   "cell_type": "code",
   "execution_count": 8,
   "id": "45263dff",
   "metadata": {},
   "outputs": [],
   "source": [
    "with open('../../variaveis_preprocessadas/census.pkl', 'rb') as f:\n",
    "  previsores_treinamento, classe_treinamento, previsores_teste, classe_teste = pickle.load(f)\n"
   ]
  },
  {
   "cell_type": "markdown",
   "id": "dff8f0f6",
   "metadata": {},
   "source": [
    "### Utilização do algoritmo Àrvores de decisão"
   ]
  },
  {
   "cell_type": "code",
   "execution_count": 9,
   "id": "10fa8a58",
   "metadata": {},
   "outputs": [],
   "source": [
    "from sklearn.tree import DecisionTreeClassifier\n",
    "\n",
    "tree = DecisionTreeClassifier()\n",
    "tree.fit(previsores_treinamento, classe_treinamento)\n",
    "\n",
    "previsoes = tree.predict(previsores_teste)"
   ]
  },
  {
   "cell_type": "markdown",
   "id": "b1d58fc4",
   "metadata": {},
   "source": [
    "### Avaliação dos resultados do algoritmo Àrvores de decisão"
   ]
  },
  {
   "cell_type": "code",
   "execution_count": 10,
   "id": "e524c93a",
   "metadata": {},
   "outputs": [],
   "source": [
    "from sklearn.metrics import accuracy_score, confusion_matrix, classification_report"
   ]
  },
  {
   "cell_type": "code",
   "execution_count": 11,
   "id": "5023977f",
   "metadata": {},
   "outputs": [
    {
     "data": {
      "text/plain": [
       "0.8096212896622313"
      ]
     },
     "execution_count": 11,
     "metadata": {},
     "output_type": "execute_result"
    }
   ],
   "source": [
    "score = accuracy_score(classe_teste, previsoes)\n",
    "score"
   ]
  },
  {
   "cell_type": "code",
   "execution_count": 12,
   "id": "c92e5d09",
   "metadata": {},
   "outputs": [
    {
     "data": {
      "text/plain": [
       "array([[3204,  489],\n",
       "       [ 441,  751]], dtype=int64)"
      ]
     },
     "execution_count": 12,
     "metadata": {},
     "output_type": "execute_result"
    }
   ],
   "source": [
    "confusion_matrix(classe_teste, previsoes)"
   ]
  },
  {
   "cell_type": "code",
   "execution_count": 13,
   "id": "baad0b35",
   "metadata": {},
   "outputs": [
    {
     "name": "stdout",
     "output_type": "stream",
     "text": [
      "              precision    recall  f1-score   support\n",
      "\n",
      "       <=50K       0.88      0.87      0.87      3693\n",
      "        >50K       0.61      0.63      0.62      1192\n",
      "\n",
      "    accuracy                           0.81      4885\n",
      "   macro avg       0.74      0.75      0.75      4885\n",
      "weighted avg       0.81      0.81      0.81      4885\n",
      "\n"
     ]
    }
   ],
   "source": [
    "print(classification_report(classe_teste, previsoes))"
   ]
  },
  {
   "cell_type": "markdown",
   "id": "5105d22c",
   "metadata": {},
   "source": [
    "### Resultados obtidos\n",
    "\n",
    "O algoritmo possui 80.96% de acurácia. Não é um valor desejado de acurácia mas houve uma melhoria boa em relação ao algoritmo de Naive Bayes que possuia acurácia menor que 50%."
   ]
  }
 ],
 "metadata": {
  "kernelspec": {
   "display_name": "Python 3 (ipykernel)",
   "language": "python",
   "name": "python3"
  },
  "language_info": {
   "codemirror_mode": {
    "name": "ipython",
    "version": 3
   },
   "file_extension": ".py",
   "mimetype": "text/x-python",
   "name": "python",
   "nbconvert_exporter": "python",
   "pygments_lexer": "ipython3",
   "version": "3.9.7"
  }
 },
 "nbformat": 4,
 "nbformat_minor": 5
}
