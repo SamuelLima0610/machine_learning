{
 "cells": [
  {
   "cell_type": "markdown",
   "id": "ab1ba7c5",
   "metadata": {},
   "source": [
    "### Leitura do arquivo .pkl\n",
    "\n",
    "Leitura do arquivo onde foi salvo os previsores e as classes com seu devido pre processsamento"
   ]
  },
  {
   "cell_type": "code",
   "execution_count": 1,
   "id": "80e95038",
   "metadata": {},
   "outputs": [],
   "source": [
    "import pickle"
   ]
  },
  {
   "cell_type": "code",
   "execution_count": 2,
   "id": "5e03de9a",
   "metadata": {},
   "outputs": [],
   "source": [
    "with open('../../variaveis_preprocessadas/credit.pkl', 'rb') as f:\n",
    "  previsores_treinamento, classe_treinamento, previsores_teste, classe_teste = pickle.load(f)"
   ]
  },
  {
   "cell_type": "markdown",
   "id": "dff8f0f6",
   "metadata": {},
   "source": [
    "### Utilização do algoritmo Àrvores de decisão"
   ]
  },
  {
   "cell_type": "code",
   "execution_count": 4,
   "id": "69230e8d",
   "metadata": {},
   "outputs": [],
   "source": [
    "from sklearn.tree import DecisionTreeClassifier\n",
    "\n",
    "tree = DecisionTreeClassifier()\n",
    "tree.fit(previsores_treinamento, classe_treinamento)\n",
    "\n",
    "previsoes = tree.predict(previsores_teste)"
   ]
  },
  {
   "cell_type": "markdown",
   "id": "b1d58fc4",
   "metadata": {},
   "source": [
    "### Avaliação dos resultados do algoritmo Àrvores de decisão"
   ]
  },
  {
   "cell_type": "code",
   "execution_count": 5,
   "id": "17e2a6ab",
   "metadata": {},
   "outputs": [],
   "source": [
    "from sklearn.metrics import accuracy_score, confusion_matrix, classification_report"
   ]
  },
  {
   "cell_type": "code",
   "execution_count": 6,
   "id": "7b9eea7a",
   "metadata": {},
   "outputs": [
    {
     "data": {
      "text/plain": [
       "0.978"
      ]
     },
     "execution_count": 6,
     "metadata": {},
     "output_type": "execute_result"
    }
   ],
   "source": [
    "score = accuracy_score(classe_teste, previsoes)\n",
    "score"
   ]
  },
  {
   "cell_type": "code",
   "execution_count": 7,
   "id": "956479c1",
   "metadata": {},
   "outputs": [
    {
     "data": {
      "text/plain": [
       "array([[425,   7],\n",
       "       [  4,  64]], dtype=int64)"
      ]
     },
     "execution_count": 7,
     "metadata": {},
     "output_type": "execute_result"
    }
   ],
   "source": [
    "confusion_matrix(classe_teste, previsoes)"
   ]
  },
  {
   "cell_type": "code",
   "execution_count": 9,
   "id": "a8bc3cc3",
   "metadata": {},
   "outputs": [
    {
     "name": "stdout",
     "output_type": "stream",
     "text": [
      "              precision    recall  f1-score   support\n",
      "\n",
      "           0       0.99      0.98      0.99       432\n",
      "           1       0.90      0.94      0.92        68\n",
      "\n",
      "    accuracy                           0.98       500\n",
      "   macro avg       0.95      0.96      0.95       500\n",
      "weighted avg       0.98      0.98      0.98       500\n",
      "\n"
     ]
    }
   ],
   "source": [
    "print(classification_report(classe_teste, previsoes))"
   ]
  },
  {
   "cell_type": "markdown",
   "id": "3a23a664",
   "metadata": {},
   "source": [
    "### Resultados obtidos\n",
    "\n",
    "O algoritmo possui 97% de acurácia. O algoritmo para a deteção de pessoas que não vão pagar o emprestimo consegue detectar 94% e possui uma acurácia de 90%. Em relação ao algoritmo de Naive Bayes, o algoritmo de árvore de decisão possui um melhor desempenho."
   ]
  }
 ],
 "metadata": {
  "kernelspec": {
   "display_name": "Python 3 (ipykernel)",
   "language": "python",
   "name": "python3"
  },
  "language_info": {
   "codemirror_mode": {
    "name": "ipython",
    "version": 3
   },
   "file_extension": ".py",
   "mimetype": "text/x-python",
   "name": "python",
   "nbconvert_exporter": "python",
   "pygments_lexer": "ipython3",
   "version": "3.9.7"
  }
 },
 "nbformat": 4,
 "nbformat_minor": 5
}
