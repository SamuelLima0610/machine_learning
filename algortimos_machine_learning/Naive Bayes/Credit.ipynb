{
 "cells": [
  {
   "cell_type": "markdown",
   "id": "ab1ba7c5",
   "metadata": {},
   "source": [
    "### Leitura do arquivo .pkl\n",
    "\n",
    "Leitura do arquivo onde foi salvo os previsores e as classes com seu devido pre processsamento"
   ]
  },
  {
   "cell_type": "code",
   "execution_count": 28,
   "id": "bbac2ccb",
   "metadata": {},
   "outputs": [],
   "source": [
    "import pickle"
   ]
  },
  {
   "cell_type": "code",
   "execution_count": 29,
   "id": "05adde92",
   "metadata": {},
   "outputs": [],
   "source": [
    "with open('../../variaveis_preprocessadas/credit.pkl', 'rb') as f:\n",
    "  previsores_treinamento, classe_treinamento, previsores_teste, classe_teste = pickle.load(f)"
   ]
  },
  {
   "cell_type": "markdown",
   "id": "dff8f0f6",
   "metadata": {},
   "source": [
    "### Utilização do algoritmo Naive Bayes"
   ]
  },
  {
   "cell_type": "code",
   "execution_count": 30,
   "id": "6fcc7d8f",
   "metadata": {},
   "outputs": [],
   "source": [
    "from sklearn.naive_bayes import GaussianNB\n",
    "\n",
    "gausian = GaussianNB()\n",
    "gausian.fit(previsores_treinamento, classe_treinamento)\n",
    "\n",
    "previsoes = gausian.predict(previsores_teste)"
   ]
  },
  {
   "cell_type": "markdown",
   "id": "b1d58fc4",
   "metadata": {},
   "source": [
    "### Avaliação dos resultados do algoritmo Naive Bayes"
   ]
  },
  {
   "cell_type": "code",
   "execution_count": 31,
   "id": "ddada6ea",
   "metadata": {},
   "outputs": [],
   "source": [
    "from sklearn.metrics import accuracy_score, confusion_matrix, classification_report"
   ]
  },
  {
   "cell_type": "code",
   "execution_count": 32,
   "id": "0ffaedc1",
   "metadata": {},
   "outputs": [
    {
     "data": {
      "text/plain": [
       "0.936"
      ]
     },
     "execution_count": 32,
     "metadata": {},
     "output_type": "execute_result"
    }
   ],
   "source": [
    "score = accuracy_score(classe_teste, previsoes)\n",
    "score"
   ]
  },
  {
   "cell_type": "code",
   "execution_count": 33,
   "id": "9c96c49c",
   "metadata": {},
   "outputs": [
    {
     "data": {
      "text/plain": [
       "array([[423,   9],\n",
       "       [ 23,  45]], dtype=int64)"
      ]
     },
     "execution_count": 33,
     "metadata": {},
     "output_type": "execute_result"
    }
   ],
   "source": [
    "confusion_matrix(classe_teste, previsoes)"
   ]
  },
  {
   "cell_type": "code",
   "execution_count": 35,
   "id": "e97468a8",
   "metadata": {},
   "outputs": [
    {
     "name": "stdout",
     "output_type": "stream",
     "text": [
      "              precision    recall  f1-score   support\n",
      "\n",
      "           0       0.95      0.98      0.96       432\n",
      "           1       0.83      0.66      0.74        68\n",
      "\n",
      "    accuracy                           0.94       500\n",
      "   macro avg       0.89      0.82      0.85       500\n",
      "weighted avg       0.93      0.94      0.93       500\n",
      "\n"
     ]
    }
   ],
   "source": [
    "print(classification_report(classe_teste, previsoes))"
   ]
  },
  {
   "cell_type": "markdown",
   "id": "93a8ebaa",
   "metadata": {},
   "source": [
    "### Resultados obtidos\n",
    "\n",
    "O algoritmo possui 93% de acurácia. O algoritmo para a deteção de pessoas que não vão pagar o emprestimo consegue detectar 66% e possui uma acurácia de 83%. Como a atividade principal é a detecção das pessoas que não pagarão o emprestimo, com está abordagem possui um rendimento considerado como aceitável."
   ]
  }
 ],
 "metadata": {
  "kernelspec": {
   "display_name": "Python 3 (ipykernel)",
   "language": "python",
   "name": "python3"
  },
  "language_info": {
   "codemirror_mode": {
    "name": "ipython",
    "version": 3
   },
   "file_extension": ".py",
   "mimetype": "text/x-python",
   "name": "python",
   "nbconvert_exporter": "python",
   "pygments_lexer": "ipython3",
   "version": "3.9.7"
  }
 },
 "nbformat": 4,
 "nbformat_minor": 5
}
