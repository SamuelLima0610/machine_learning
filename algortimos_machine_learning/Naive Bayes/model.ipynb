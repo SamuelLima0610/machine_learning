{
 "cells": [
  {
   "cell_type": "markdown",
   "id": "ab1ba7c5",
   "metadata": {},
   "source": [
    "### Leitura do arquivo .pkl\n",
    "\n",
    "Leitura do arquivo onde foi salvo os previsores e as classes com seu devido pre processsamento"
   ]
  },
  {
   "cell_type": "markdown",
   "id": "dff8f0f6",
   "metadata": {},
   "source": [
    "### Utilização do algoritmo Naive Bayes"
   ]
  },
  {
   "cell_type": "markdown",
   "id": "b1d58fc4",
   "metadata": {},
   "source": [
    "### Avaliação dos resultados do algoritmo Naive Bayes"
   ]
  }
 ],
 "metadata": {
  "kernelspec": {
   "display_name": "Python 3 (ipykernel)",
   "language": "python",
   "name": "python3"
  },
  "language_info": {
   "codemirror_mode": {
    "name": "ipython",
    "version": 3
   },
   "file_extension": ".py",
   "mimetype": "text/x-python",
   "name": "python",
   "nbconvert_exporter": "python",
   "pygments_lexer": "ipython3",
   "version": "3.9.7"
  }
 },
 "nbformat": 4,
 "nbformat_minor": 5
}
